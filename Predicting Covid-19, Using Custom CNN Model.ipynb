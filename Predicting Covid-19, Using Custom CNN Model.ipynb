{
 "cells": [
  {
   "cell_type": "markdown",
   "metadata": {},
   "source": [
    "# Predicting Covid-19, Using Custom CNN Model"
   ]
  },
  {
   "cell_type": "code",
   "execution_count": 1,
   "metadata": {},
   "outputs": [
    {
     "name": "stderr",
     "output_type": "stream",
     "text": [
      "C:\\Users\\Mizgaan\\Anaconda3\\lib\\site-packages\\statsmodels\\tools\\_testing.py:19: FutureWarning: pandas.util.testing is deprecated. Use the functions in the public API at pandas.testing instead.\n",
      "  import pandas.util.testing as tm\n",
      "Using TensorFlow backend.\n"
     ]
    }
   ],
   "source": [
    "#Data Analysis Phase\n",
    "#Main Aim is to understnad more about the data\n",
    "\n",
    "import numpy as np\n",
    "import pandas as pd\n",
    "import matplotlib.pyplot as plt\n",
    "import seaborn as sns\n",
    "\n",
    "%matplotlib inline \n",
    "\n",
    "import warnings\n",
    "warnings.filterwarnings(\"ignore\")\n",
    "##Display all the columns in Data Frame\n",
    "\n",
    "pd.pandas.set_option('display.max_columns',None)\n",
    "\n",
    "# For prepocessing\n",
    "from sklearn import preprocessing\n",
    "# For Train Test Split\n",
    "from sklearn.model_selection import train_test_split\n",
    "\n",
    "# Importing Deep Learning Keras library\n",
    "import keras\n",
    "from keras.models import Sequential\n",
    "from keras.layers import Dense\n",
    "from keras.layers import LeakyReLU,PReLU,ELU\n",
    "from keras.layers import Dropout\n",
    "from keras import optimizers\n",
    "from keras.utils import to_categorical\n",
    "\n",
    "#For CNN\n",
    "from keras.layers import Conv2D, MaxPooling2D, BatchNormalization, Flatten,Activation\n",
    "import cv2  "
   ]
  },
  {
   "cell_type": "code",
   "execution_count": 2,
   "metadata": {},
   "outputs": [],
   "source": [
    "train_path = r'C:\\Users\\Mizgaan\\Downloads\\COVID-CT-master\\Train'\n",
    "valid_path = r'C:\\Users\\Mizgaan\\Downloads\\COVID-CT-master\\Test'"
   ]
  },
  {
   "cell_type": "code",
   "execution_count": 3,
   "metadata": {},
   "outputs": [],
   "source": [
    "# Preprocessing training Set\n",
    "from keras.preprocessing.image import ImageDataGenerator\n"
   ]
  },
  {
   "cell_type": "code",
   "execution_count": 4,
   "metadata": {},
   "outputs": [
    {
     "name": "stdout",
     "output_type": "stream",
     "text": [
      "Found 746 images belonging to 2 classes.\n"
     ]
    }
   ],
   "source": [
    "train_data_gen=ImageDataGenerator(rescale=1/255, shear_range=0.2,\n",
    "                   zoom_range=0.2,horizontal_flip=True)\n",
    "\n",
    "train_set=train_data_gen.flow_from_directory(train_path,\n",
    "                                   target_size=(64,64),batch_size=32,class_mode='categorical')\n"
   ]
  },
  {
   "cell_type": "code",
   "execution_count": 5,
   "metadata": {},
   "outputs": [
    {
     "name": "stdout",
     "output_type": "stream",
     "text": [
      "Found 314 images belonging to 2 classes.\n"
     ]
    }
   ],
   "source": [
    "test_gen=ImageDataGenerator(rescale=1/255)\n",
    "\n",
    "test_set=test_gen.flow_from_directory(valid_path,\n",
    "                             target_size=(64,64),batch_size=32,class_mode='categorical')"
   ]
  },
  {
   "cell_type": "markdown",
   "metadata": {},
   "source": [
    "## Making CNN Model"
   ]
  },
  {
   "cell_type": "code",
   "execution_count": 6,
   "metadata": {},
   "outputs": [],
   "source": [
    "classifier =Sequential()\n"
   ]
  },
  {
   "cell_type": "code",
   "execution_count": 7,
   "metadata": {},
   "outputs": [
    {
     "name": "stdout",
     "output_type": "stream",
     "text": [
      "WARNING:tensorflow:Large dropout rate: 0.6 (>0.5). In TensorFlow 2.x, dropout() uses dropout rate instead of keep_prob. Please ensure that this is intended.\n"
     ]
    }
   ],
   "source": [
    "#Adding 1st Convolutional Layer\n",
    "classifier.add(Conv2D(filters =32,kernel_size=(3,3),padding = 'Same',activation='relu',kernel_initializer = 'he_uniform',\n",
    "                                                input_shape=[64,64,3]))          \n",
    "# classifier.add(MaxPooling2D(pool_size=(2,2), strides=(2,2)))\n",
    "\n",
    "\n",
    "# Adding 2nd Convolutional Layer\n",
    "classifier.add(Conv2D(filters =28,kernel_size=(3,3),padding = 'Same',activation='relu',kernel_initializer = 'he_uniform'))   \n",
    "\n",
    "classifier.add(MaxPooling2D(pool_size=(2,2), strides=(2,2)))\n",
    "# classifier.add(Dropout(0.3)) # To avoid Overfitting we use Drop Out Layer\n",
    " \n",
    "    \n",
    "# Adding 3rd Convolutional Layer\n",
    "classifier.add(Conv2D(filters =30,kernel_size=(3,3),activation='relu',kernel_initializer = 'he_uniform'))\n",
    "classifier.add(MaxPooling2D(pool_size=(2,2), strides=(2,2)))\n",
    "classifier.add(Dropout(0.6))\n",
    "\n",
    "# # Adding 4th Convolutional Layer\n",
    "# classifier.add(Conv2D(filters =30,kernel_size=(3,3),activation='relu',kernel_initializer = 'he_uniform'))\n",
    "\n",
    "# # Adding 5th Convolutional Layer\n",
    "# classifier.add(Conv2D(filters =28,kernel_size=(3,3),padding = 'Same',activation='relu',kernel_initializer = 'he_uniform'))   \n",
    "\n",
    "# classifier.add(MaxPooling2D(pool_size=(2,2), strides=(2,2)))\n",
    "\n",
    "\n",
    "#         kernel_size=hp.Choice('conv_3_filter', values = [3,5]),padding = 'Same',   \n",
    "   \n",
    "classifier.add(Flatten())\n",
    "# classifier.add(Dense(512))\n",
    "    # Adding the output layer\n",
    "#     classifier.add(Dense(units=('dense_1_units', min_value=32, max_value=128, step=16),\n",
    "#         activation='relu'))\n",
    "   \n",
    "\n",
    "classifier.add(Dense(20,activation='relu'))\n",
    "classifier.add(Dense(15,activation='relu'))\n",
    "\n",
    "\n",
    "classifier.add(Dense(units=2, activation='softmax',kernel_initializer = 'glorot_uniform'))\n",
    "    \n",
    "    "
   ]
  },
  {
   "cell_type": "code",
   "execution_count": 8,
   "metadata": {},
   "outputs": [],
   "source": [
    "# Compiling\n",
    "classifier.compile(optimizer='adam',\n",
    "              loss='categorical_crossentropy',\n",
    "              metrics=['accuracy'])\n",
    "    "
   ]
  },
  {
   "cell_type": "code",
   "execution_count": 9,
   "metadata": {},
   "outputs": [
    {
     "name": "stdout",
     "output_type": "stream",
     "text": [
      "Model: \"sequential_1\"\n",
      "_________________________________________________________________\n",
      "Layer (type)                 Output Shape              Param #   \n",
      "=================================================================\n",
      "conv2d_1 (Conv2D)            (None, 64, 64, 32)        896       \n",
      "_________________________________________________________________\n",
      "conv2d_2 (Conv2D)            (None, 64, 64, 28)        8092      \n",
      "_________________________________________________________________\n",
      "max_pooling2d_1 (MaxPooling2 (None, 32, 32, 28)        0         \n",
      "_________________________________________________________________\n",
      "conv2d_3 (Conv2D)            (None, 30, 30, 30)        7590      \n",
      "_________________________________________________________________\n",
      "max_pooling2d_2 (MaxPooling2 (None, 15, 15, 30)        0         \n",
      "_________________________________________________________________\n",
      "dropout_1 (Dropout)          (None, 15, 15, 30)        0         \n",
      "_________________________________________________________________\n",
      "flatten_1 (Flatten)          (None, 6750)              0         \n",
      "_________________________________________________________________\n",
      "dense_1 (Dense)              (None, 20)                135020    \n",
      "_________________________________________________________________\n",
      "dense_2 (Dense)              (None, 15)                315       \n",
      "_________________________________________________________________\n",
      "dense_3 (Dense)              (None, 2)                 32        \n",
      "=================================================================\n",
      "Total params: 151,945\n",
      "Trainable params: 151,945\n",
      "Non-trainable params: 0\n",
      "_________________________________________________________________\n"
     ]
    }
   ],
   "source": [
    "classifier.summary()"
   ]
  },
  {
   "cell_type": "code",
   "execution_count": 10,
   "metadata": {},
   "outputs": [
    {
     "name": "stdout",
     "output_type": "stream",
     "text": [
      "Epoch 1/100\n",
      "24/24 [==============================] - 10s 415ms/step - loss: 0.7317 - accuracy: 0.4638 - val_loss: 0.6661 - val_accuracy: 0.5732\n",
      "Epoch 2/100\n",
      "24/24 [==============================] - 9s 385ms/step - loss: 0.6901 - accuracy: 0.5375 - val_loss: 0.6760 - val_accuracy: 0.5764\n",
      "Epoch 3/100\n",
      "24/24 [==============================] - 9s 388ms/step - loss: 0.6782 - accuracy: 0.5617 - val_loss: 0.6681 - val_accuracy: 0.6146\n",
      "Epoch 4/100\n",
      "24/24 [==============================] - 9s 372ms/step - loss: 0.6618 - accuracy: 0.6005 - val_loss: 0.6408 - val_accuracy: 0.6051\n",
      "Epoch 5/100\n",
      "24/24 [==============================] - 9s 376ms/step - loss: 0.6363 - accuracy: 0.6461 - val_loss: 0.7153 - val_accuracy: 0.4713\n",
      "Epoch 6/100\n",
      "24/24 [==============================] - 9s 365ms/step - loss: 0.6189 - accuracy: 0.6475 - val_loss: 0.7028 - val_accuracy: 0.6146\n",
      "Epoch 7/100\n",
      "24/24 [==============================] - 9s 372ms/step - loss: 0.6169 - accuracy: 0.6582 - val_loss: 0.5654 - val_accuracy: 0.6847\n",
      "Epoch 8/100\n",
      "24/24 [==============================] - 9s 375ms/step - loss: 0.6039 - accuracy: 0.6756 - val_loss: 0.6646 - val_accuracy: 0.7006\n",
      "Epoch 9/100\n",
      "24/24 [==============================] - 9s 365ms/step - loss: 0.6022 - accuracy: 0.6662 - val_loss: 0.5379 - val_accuracy: 0.7006\n",
      "Epoch 10/100\n",
      "24/24 [==============================] - 9s 369ms/step - loss: 0.5929 - accuracy: 0.6877 - val_loss: 0.6459 - val_accuracy: 0.7389\n",
      "Epoch 11/100\n",
      "24/24 [==============================] - 9s 368ms/step - loss: 0.5863 - accuracy: 0.6662 - val_loss: 0.4897 - val_accuracy: 0.7325\n",
      "Epoch 12/100\n",
      "24/24 [==============================] - 9s 371ms/step - loss: 0.5576 - accuracy: 0.7011 - val_loss: 0.6988 - val_accuracy: 0.7102\n",
      "Epoch 13/100\n",
      "24/24 [==============================] - 9s 373ms/step - loss: 0.5751 - accuracy: 0.6971 - val_loss: 0.5380 - val_accuracy: 0.7516\n",
      "Epoch 14/100\n",
      "24/24 [==============================] - 9s 370ms/step - loss: 0.5565 - accuracy: 0.7198 - val_loss: 0.5358 - val_accuracy: 0.7357\n",
      "Epoch 15/100\n",
      "24/24 [==============================] - 9s 374ms/step - loss: 0.5583 - accuracy: 0.6903 - val_loss: 0.4990 - val_accuracy: 0.7134\n",
      "Epoch 16/100\n",
      "24/24 [==============================] - 9s 370ms/step - loss: 0.5592 - accuracy: 0.7091 - val_loss: 0.5812 - val_accuracy: 0.7484\n",
      "Epoch 17/100\n",
      "24/24 [==============================] - 9s 364ms/step - loss: 0.5277 - accuracy: 0.7158 - val_loss: 0.4415 - val_accuracy: 0.7643\n",
      "Epoch 18/100\n",
      "24/24 [==============================] - 9s 364ms/step - loss: 0.5131 - accuracy: 0.7332 - val_loss: 0.4023 - val_accuracy: 0.7707\n",
      "Epoch 19/100\n",
      "24/24 [==============================] - 9s 387ms/step - loss: 0.5288 - accuracy: 0.7466 - val_loss: 0.5025 - val_accuracy: 0.7739\n",
      "Epoch 20/100\n",
      "24/24 [==============================] - 9s 379ms/step - loss: 0.5198 - accuracy: 0.7399 - val_loss: 0.3855 - val_accuracy: 0.7611\n",
      "Epoch 21/100\n",
      "24/24 [==============================] - 9s 367ms/step - loss: 0.5565 - accuracy: 0.7118 - val_loss: 0.5394 - val_accuracy: 0.7580\n",
      "Epoch 22/100\n",
      "24/24 [==============================] - 9s 364ms/step - loss: 0.5167 - accuracy: 0.7373 - val_loss: 0.5393 - val_accuracy: 0.7994\n",
      "Epoch 23/100\n",
      "24/24 [==============================] - 9s 373ms/step - loss: 0.4941 - accuracy: 0.7654 - val_loss: 0.4686 - val_accuracy: 0.7994\n",
      "Epoch 24/100\n",
      "24/24 [==============================] - 9s 371ms/step - loss: 0.4993 - accuracy: 0.7520 - val_loss: 0.4686 - val_accuracy: 0.7898\n",
      "Epoch 25/100\n",
      "24/24 [==============================] - 9s 366ms/step - loss: 0.5036 - accuracy: 0.7641 - val_loss: 0.4983 - val_accuracy: 0.7898\n",
      "Epoch 26/100\n",
      "24/24 [==============================] - 9s 374ms/step - loss: 0.5032 - accuracy: 0.7413 - val_loss: 0.3251 - val_accuracy: 0.7898\n",
      "Epoch 27/100\n",
      "24/24 [==============================] - 9s 369ms/step - loss: 0.4788 - accuracy: 0.7641 - val_loss: 0.4100 - val_accuracy: 0.8185\n",
      "Epoch 28/100\n",
      "24/24 [==============================] - 9s 367ms/step - loss: 0.5180 - accuracy: 0.7386 - val_loss: 0.4445 - val_accuracy: 0.7866\n",
      "Epoch 29/100\n",
      "24/24 [==============================] - 9s 370ms/step - loss: 0.5117 - accuracy: 0.7507 - val_loss: 0.3687 - val_accuracy: 0.8121\n",
      "Epoch 30/100\n",
      "24/24 [==============================] - 9s 368ms/step - loss: 0.5342 - accuracy: 0.7131 - val_loss: 0.4593 - val_accuracy: 0.7930\n",
      "Epoch 31/100\n",
      "24/24 [==============================] - 9s 371ms/step - loss: 0.4958 - accuracy: 0.7735 - val_loss: 0.3938 - val_accuracy: 0.7962\n",
      "Epoch 32/100\n",
      "24/24 [==============================] - 9s 369ms/step - loss: 0.4943 - accuracy: 0.7534 - val_loss: 0.2707 - val_accuracy: 0.8153\n",
      "Epoch 33/100\n",
      "24/24 [==============================] - 9s 374ms/step - loss: 0.4571 - accuracy: 0.7802 - val_loss: 0.4160 - val_accuracy: 0.7898\n",
      "Epoch 34/100\n",
      "24/24 [==============================] - 9s 377ms/step - loss: 0.4803 - accuracy: 0.7627 - val_loss: 0.5232 - val_accuracy: 0.8153\n",
      "Epoch 35/100\n",
      "24/24 [==============================] - 9s 370ms/step - loss: 0.4704 - accuracy: 0.7802 - val_loss: 0.4678 - val_accuracy: 0.8248\n",
      "Epoch 36/100\n",
      "24/24 [==============================] - 9s 368ms/step - loss: 0.4435 - accuracy: 0.7909 - val_loss: 0.2780 - val_accuracy: 0.8376\n",
      "Epoch 37/100\n",
      "24/24 [==============================] - 9s 377ms/step - loss: 0.4400 - accuracy: 0.7775 - val_loss: 0.4594 - val_accuracy: 0.8153\n",
      "Epoch 38/100\n",
      "24/24 [==============================] - 9s 371ms/step - loss: 0.4507 - accuracy: 0.7761 - val_loss: 0.3044 - val_accuracy: 0.8471\n",
      "Epoch 39/100\n",
      "24/24 [==============================] - 9s 370ms/step - loss: 0.4817 - accuracy: 0.7654 - val_loss: 0.3202 - val_accuracy: 0.8185\n",
      "Epoch 40/100\n",
      "24/24 [==============================] - 9s 381ms/step - loss: 0.4429 - accuracy: 0.7668 - val_loss: 0.4017 - val_accuracy: 0.8121\n",
      "Epoch 41/100\n",
      "24/24 [==============================] - 9s 376ms/step - loss: 0.4361 - accuracy: 0.7989 - val_loss: 0.4216 - val_accuracy: 0.8153\n",
      "Epoch 42/100\n",
      "24/24 [==============================] - 9s 368ms/step - loss: 0.4423 - accuracy: 0.8003 - val_loss: 0.4493 - val_accuracy: 0.8121\n",
      "Epoch 43/100\n",
      "24/24 [==============================] - 9s 366ms/step - loss: 0.4112 - accuracy: 0.8070 - val_loss: 0.2739 - val_accuracy: 0.8408\n",
      "Epoch 44/100\n",
      "24/24 [==============================] - 9s 365ms/step - loss: 0.4203 - accuracy: 0.7855 - val_loss: 0.3884 - val_accuracy: 0.8344\n",
      "Epoch 45/100\n",
      "24/24 [==============================] - 9s 370ms/step - loss: 0.3999 - accuracy: 0.8190 - val_loss: 0.2623 - val_accuracy: 0.8439\n",
      "Epoch 46/100\n",
      "24/24 [==============================] - 9s 385ms/step - loss: 0.4078 - accuracy: 0.8177 - val_loss: 0.3838 - val_accuracy: 0.8344\n",
      "Epoch 47/100\n",
      "24/24 [==============================] - 9s 376ms/step - loss: 0.4148 - accuracy: 0.8016 - val_loss: 0.3200 - val_accuracy: 0.8376\n",
      "Epoch 48/100\n",
      "24/24 [==============================] - 1476s 61s/step - loss: 0.4340 - accuracy: 0.7788 - val_loss: 0.2408 - val_accuracy: 0.8535\n",
      "Epoch 49/100\n",
      "24/24 [==============================] - 15s 630ms/step - loss: 0.4027 - accuracy: 0.8043 - val_loss: 0.3936 - val_accuracy: 0.8280\n",
      "Epoch 50/100\n",
      "24/24 [==============================] - 15s 645ms/step - loss: 0.4181 - accuracy: 0.8097 - val_loss: 0.3399 - val_accuracy: 0.7994\n",
      "Epoch 51/100\n",
      "24/24 [==============================] - 15s 623ms/step - loss: 0.4122 - accuracy: 0.8164 - val_loss: 0.2584 - val_accuracy: 0.8344\n",
      "Epoch 52/100\n",
      "24/24 [==============================] - 16s 675ms/step - loss: 0.4037 - accuracy: 0.8150 - val_loss: 0.3649 - val_accuracy: 0.8471\n",
      "Epoch 53/100\n",
      "24/24 [==============================] - 15s 626ms/step - loss: 0.4136 - accuracy: 0.8056 - val_loss: 0.3747 - val_accuracy: 0.8567\n",
      "Epoch 54/100\n",
      "24/24 [==============================] - 16s 651ms/step - loss: 0.4248 - accuracy: 0.7869 - val_loss: 0.2322 - val_accuracy: 0.8631\n",
      "Epoch 55/100\n",
      "24/24 [==============================] - 21s 880ms/step - loss: 0.4024 - accuracy: 0.8083 - val_loss: 0.1674 - val_accuracy: 0.8758\n",
      "Epoch 56/100\n",
      "24/24 [==============================] - 21s 881ms/step - loss: 0.3765 - accuracy: 0.8190 - val_loss: 0.2942 - val_accuracy: 0.8631\n",
      "Epoch 57/100\n",
      "24/24 [==============================] - 21s 874ms/step - loss: 0.3527 - accuracy: 0.8378 - val_loss: 0.2583 - val_accuracy: 0.8662\n"
     ]
    },
    {
     "name": "stdout",
     "output_type": "stream",
     "text": [
      "Epoch 58/100\n",
      "24/24 [==============================] - 21s 886ms/step - loss: 0.4092 - accuracy: 0.8070 - val_loss: 0.1830 - val_accuracy: 0.8312\n",
      "Epoch 59/100\n",
      "24/24 [==============================] - 22s 900ms/step - loss: 0.3916 - accuracy: 0.8110 - val_loss: 0.2820 - val_accuracy: 0.8408\n",
      "Epoch 60/100\n",
      "24/24 [==============================] - 22s 902ms/step - loss: 0.3928 - accuracy: 0.8231 - val_loss: 0.3396 - val_accuracy: 0.8567\n",
      "Epoch 61/100\n",
      "24/24 [==============================] - 22s 907ms/step - loss: 0.3765 - accuracy: 0.8137 - val_loss: 0.2687 - val_accuracy: 0.8694\n",
      "Epoch 62/100\n",
      "24/24 [==============================] - 22s 904ms/step - loss: 0.3711 - accuracy: 0.8378 - val_loss: 0.3553 - val_accuracy: 0.8790\n",
      "Epoch 63/100\n",
      "24/24 [==============================] - 21s 883ms/step - loss: 0.3609 - accuracy: 0.8271 - val_loss: 0.3040 - val_accuracy: 0.8822\n",
      "Epoch 64/100\n",
      "24/24 [==============================] - 21s 895ms/step - loss: 0.3715 - accuracy: 0.8244 - val_loss: 0.2333 - val_accuracy: 0.8662\n",
      "Epoch 65/100\n",
      "24/24 [==============================] - 21s 860ms/step - loss: 0.3295 - accuracy: 0.8391 - val_loss: 0.3866 - val_accuracy: 0.8631\n",
      "Epoch 66/100\n",
      "24/24 [==============================] - 22s 897ms/step - loss: 0.3780 - accuracy: 0.8284 - val_loss: 0.2238 - val_accuracy: 0.8535\n",
      "Epoch 67/100\n",
      "24/24 [==============================] - 21s 871ms/step - loss: 0.3520 - accuracy: 0.8405 - val_loss: 0.2837 - val_accuracy: 0.9076\n",
      "Epoch 68/100\n",
      "24/24 [==============================] - 21s 885ms/step - loss: 0.3508 - accuracy: 0.8257 - val_loss: 0.2153 - val_accuracy: 0.8439\n",
      "Epoch 69/100\n",
      "24/24 [==============================] - 21s 879ms/step - loss: 0.3958 - accuracy: 0.8150 - val_loss: 0.2880 - val_accuracy: 0.8599\n",
      "Epoch 70/100\n",
      "24/24 [==============================] - 21s 875ms/step - loss: 0.3606 - accuracy: 0.8284 - val_loss: 0.2636 - val_accuracy: 0.8854\n",
      "Epoch 71/100\n",
      "24/24 [==============================] - 21s 876ms/step - loss: 0.3425 - accuracy: 0.8405 - val_loss: 0.3530 - val_accuracy: 0.8471\n",
      "Epoch 72/100\n",
      "24/24 [==============================] - 21s 888ms/step - loss: 0.3740 - accuracy: 0.8311 - val_loss: 0.2610 - val_accuracy: 0.8949\n",
      "Epoch 73/100\n",
      "24/24 [==============================] - 21s 888ms/step - loss: 0.3463 - accuracy: 0.8324 - val_loss: 0.2415 - val_accuracy: 0.8758\n",
      "Epoch 74/100\n",
      "24/24 [==============================] - 21s 879ms/step - loss: 0.3390 - accuracy: 0.8391 - val_loss: 0.3869 - val_accuracy: 0.8567\n",
      "Epoch 75/100\n",
      "24/24 [==============================] - 21s 870ms/step - loss: 0.3177 - accuracy: 0.8458 - val_loss: 0.2637 - val_accuracy: 0.9013\n",
      "Epoch 76/100\n",
      "24/24 [==============================] - 21s 875ms/step - loss: 0.3354 - accuracy: 0.8485 - val_loss: 0.2685 - val_accuracy: 0.9299\n",
      "Epoch 77/100\n",
      "24/24 [==============================] - 21s 860ms/step - loss: 0.3788 - accuracy: 0.8432 - val_loss: 0.1944 - val_accuracy: 0.8726\n",
      "Epoch 78/100\n",
      "24/24 [==============================] - 21s 880ms/step - loss: 0.3192 - accuracy: 0.8592 - val_loss: 0.2876 - val_accuracy: 0.8822\n",
      "Epoch 79/100\n",
      "24/24 [==============================] - 22s 908ms/step - loss: 0.3181 - accuracy: 0.8606 - val_loss: 0.2493 - val_accuracy: 0.8758\n",
      "Epoch 80/100\n",
      "24/24 [==============================] - 21s 893ms/step - loss: 0.3214 - accuracy: 0.8539 - val_loss: 0.2398 - val_accuracy: 0.8822\n",
      "Epoch 81/100\n",
      "24/24 [==============================] - 21s 881ms/step - loss: 0.3008 - accuracy: 0.8847 - val_loss: 0.3098 - val_accuracy: 0.9108\n",
      "Epoch 82/100\n",
      "24/24 [==============================] - 21s 874ms/step - loss: 0.3104 - accuracy: 0.8579 - val_loss: 0.1910 - val_accuracy: 0.9013\n",
      "Epoch 83/100\n",
      "24/24 [==============================] - 21s 868ms/step - loss: 0.3364 - accuracy: 0.8365 - val_loss: 0.1981 - val_accuracy: 0.8599\n",
      "Epoch 84/100\n",
      "24/24 [==============================] - 21s 868ms/step - loss: 0.2890 - accuracy: 0.8780 - val_loss: 0.1574 - val_accuracy: 0.8726\n",
      "Epoch 85/100\n",
      "24/24 [==============================] - 20s 851ms/step - loss: 0.2982 - accuracy: 0.8767 - val_loss: 0.1985 - val_accuracy: 0.9045\n",
      "Epoch 86/100\n",
      "24/24 [==============================] - 21s 873ms/step - loss: 0.3035 - accuracy: 0.8660 - val_loss: 0.2014 - val_accuracy: 0.9140\n",
      "Epoch 87/100\n",
      "24/24 [==============================] - 22s 915ms/step - loss: 0.3000 - accuracy: 0.8673 - val_loss: 0.3455 - val_accuracy: 0.9076\n",
      "Epoch 88/100\n",
      "24/24 [==============================] - 22s 900ms/step - loss: 0.3316 - accuracy: 0.8727 - val_loss: 0.2854 - val_accuracy: 0.8885\n",
      "Epoch 89/100\n",
      "24/24 [==============================] - 21s 896ms/step - loss: 0.3236 - accuracy: 0.8566 - val_loss: 0.1722 - val_accuracy: 0.9045\n",
      "Epoch 90/100\n",
      "24/24 [==============================] - 21s 867ms/step - loss: 0.3089 - accuracy: 0.8713 - val_loss: 0.1982 - val_accuracy: 0.8854\n",
      "Epoch 91/100\n",
      "24/24 [==============================] - 21s 867ms/step - loss: 0.2853 - accuracy: 0.8686 - val_loss: 0.1546 - val_accuracy: 0.8854\n",
      "Epoch 92/100\n",
      "24/24 [==============================] - 20s 848ms/step - loss: 0.2918 - accuracy: 0.8700 - val_loss: 0.1640 - val_accuracy: 0.9236\n",
      "Epoch 93/100\n",
      "24/24 [==============================] - 21s 870ms/step - loss: 0.2855 - accuracy: 0.8780 - val_loss: 0.2948 - val_accuracy: 0.9108\n",
      "Epoch 94/100\n",
      "24/24 [==============================] - 21s 867ms/step - loss: 0.3070 - accuracy: 0.8646 - val_loss: 0.3128 - val_accuracy: 0.9076\n",
      "Epoch 95/100\n",
      "24/24 [==============================] - 21s 861ms/step - loss: 0.2943 - accuracy: 0.8633 - val_loss: 0.3045 - val_accuracy: 0.9045\n",
      "Epoch 96/100\n",
      "24/24 [==============================] - 21s 871ms/step - loss: 0.2768 - accuracy: 0.8740 - val_loss: 0.1230 - val_accuracy: 0.9427\n",
      "Epoch 97/100\n",
      "24/24 [==============================] - 21s 864ms/step - loss: 0.2632 - accuracy: 0.8914 - val_loss: 0.1550 - val_accuracy: 0.9363\n",
      "Epoch 98/100\n",
      "24/24 [==============================] - 21s 864ms/step - loss: 0.2701 - accuracy: 0.8834 - val_loss: 0.1687 - val_accuracy: 0.9076\n",
      "Epoch 99/100\n",
      "24/24 [==============================] - 21s 863ms/step - loss: 0.2889 - accuracy: 0.8834 - val_loss: 0.1545 - val_accuracy: 0.9013\n",
      "Epoch 100/100\n",
      "24/24 [==============================] - 21s 866ms/step - loss: 0.2979 - accuracy: 0.8646 - val_loss: 0.1360 - val_accuracy: 0.9172\n"
     ]
    }
   ],
   "source": [
    "model_history=classifier.fit(x=train_set, validation_data=test_set,epochs = 100)\n"
   ]
  },
  {
   "cell_type": "markdown",
   "metadata": {},
   "source": [
    "## Model Accuracy for Test Data"
   ]
  },
  {
   "cell_type": "code",
   "execution_count": 35,
   "metadata": {},
   "outputs": [
    {
     "name": "stdout",
     "output_type": "stream",
     "text": [
      "0.917  : Is the accuracy \n",
      "\n",
      "0.28 :  Is the Loss\n"
     ]
    }
   ],
   "source": [
    "test_loss,test_acc=classifier.evaluate(test_set)\n",
    "\n",
    "print('{:#.3g}'.format(test_acc),' : Is the accuracy \\n')\n",
    "print(np.round(test_loss,2),':  Is the Loss')"
   ]
  },
  {
   "cell_type": "markdown",
   "metadata": {},
   "source": [
    "## Model Performance"
   ]
  },
  {
   "cell_type": "code",
   "execution_count": null,
   "metadata": {},
   "outputs": [],
   "source": []
  },
  {
   "cell_type": "code",
   "execution_count": 11,
   "metadata": {},
   "outputs": [
    {
     "data": {
      "image/png": "[encoded data removed]",
      "text/plain": [
       "<Figure size 432x288 with 1 Axes>"
      ]
     },
     "metadata": {
      "needs_background": "light"
     },
     "output_type": "display_data"
    }
   ],
   "source": [
    "#plot the Loss\n",
    "plt.plot(model_history.history['loss'])\n",
    "plt.plot(model_history.history['val_loss'])\n",
    "plt.title('Model Loss')\n",
    "plt.ylabel('Loss')\n",
    "plt.xlabel('Epochs')\n",
    "plt.legend(['train', 'test'])\n",
    "plt.show()"
   ]
  },
  {
   "cell_type": "code",
   "execution_count": 12,
   "metadata": {},
   "outputs": [
    {
     "data": {
      "image/png": "[encoded data removed]",
      "text/plain": [
       "<Figure size 432x288 with 1 Axes>"
      ]
     },
     "metadata": {
      "needs_background": "light"
     },
     "output_type": "display_data"
    },
    {
     "data": {
      "text/plain": [
       "<Figure size 432x288 with 0 Axes>"
      ]
     },
     "metadata": {},
     "output_type": "display_data"
    }
   ],
   "source": [
    "# plot the accuracy\n",
    "plt.plot(model_history.history['accuracy'], label='train acc')\n",
    "plt.plot(model_history.history['val_accuracy'], label='val acc')\n",
    "plt.legend()\n",
    "plt.show()\n",
    "plt.savefig('AccVal_acc')"
   ]
  },
  {
   "cell_type": "code",
   "execution_count": null,
   "metadata": {},
   "outputs": [],
   "source": []
  },
  {
   "cell_type": "code",
   "execution_count": 13,
   "metadata": {},
   "outputs": [],
   "source": [
    "classifier.save('Covid-19_X_RayImg.h5')"
   ]
  },
  {
   "cell_type": "markdown",
   "metadata": {},
   "source": [
    "### Loading the Image "
   ]
  },
  {
   "cell_type": "code",
   "execution_count": 14,
   "metadata": {},
   "outputs": [
    {
     "name": "stdout",
     "output_type": "stream",
     "text": [
      "WARNING:tensorflow:Large dropout rate: 0.6 (>0.5). In TensorFlow 2.x, dropout() uses dropout rate instead of keep_prob. Please ensure that this is intended.\n"
     ]
    }
   ],
   "source": [
    "from tensorflow.keras.models import load_model\n",
    "model=load_model('Covid-19_X_RayImg.h5')"
   ]
  },
  {
   "cell_type": "markdown",
   "metadata": {},
   "source": [
    "### Making Single Prediciton"
   ]
  },
  {
   "cell_type": "code",
   "execution_count": 74,
   "metadata": {},
   "outputs": [
    {
     "data": {
      "image/png": "[encoded data removed]",
      "text/plain": [
       "<Figure size 432x288 with 1 Axes>"
      ]
     },
     "metadata": {
      "needs_background": "light"
     },
     "output_type": "display_data"
    }
   ],
   "source": [
    "from tensorflow.keras.preprocessing import image\n",
    "\n",
    "test_img=image.load_img(r'C:\\Users\\Mizgaan\\Downloads\\COVID-CT-master\\Train\\CT_NonCOVID\\5%2.jpg',target_size=(64,64))\n",
    "test_img=image.img_to_array(test_img)\n",
    "test_img=test_img/255\n",
    "\n",
    "plt.imshow(test_img)\n",
    "\n",
    "test_img=np.expand_dims(test_img,axis=0)"
   ]
  },
  {
   "cell_type": "code",
   "execution_count": 75,
   "metadata": {},
   "outputs": [],
   "source": [
    "reslt=classifier.predict(test_img)"
   ]
  },
  {
   "cell_type": "code",
   "execution_count": 76,
   "metadata": {},
   "outputs": [
    {
     "data": {
      "text/plain": [
       "array([[0.00357382, 0.99642617]], dtype=float32)"
      ]
     },
     "execution_count": 76,
     "metadata": {},
     "output_type": "execute_result"
    }
   ],
   "source": [
    "reslt"
   ]
  },
  {
   "cell_type": "code",
   "execution_count": 77,
   "metadata": {},
   "outputs": [
    {
     "name": "stdout",
     "output_type": "stream",
     "text": [
      "The Image is Covid Negative\n"
     ]
    }
   ],
   "source": [
    "if reslt[0][0]>0.5:\n",
    "    print('The Image is Covid Postive') \n",
    "else:\n",
    "    print('The Image is Covid Negative')    "
   ]
  },
  {
   "cell_type": "code",
   "execution_count": null,
   "metadata": {},
   "outputs": [],
   "source": []
  },
  {
   "cell_type": "code",
   "execution_count": 78,
   "metadata": {},
   "outputs": [
    {
     "name": "stdout",
     "output_type": "stream",
     "text": [
      "The Image is Covid Negative\n"
     ]
    }
   ],
   "source": [
    "if reslt[0][0]>reslt[0][1]:\n",
    "    print('The Image is Covid Postive') \n",
    "else:\n",
    "    print('The Image is Covid Negative')"
   ]
  },
  {
   "cell_type": "code",
   "execution_count": null,
   "metadata": {},
   "outputs": [],
   "source": []
  }
 ],
 "metadata": {
  "kernelspec": {
   "display_name": "Python 3",
   "language": "python",
   "name": "python3"
  },
  "language_info": {
   "codemirror_mode": {
    "name": "ipython",
    "version": 3
   },
   "file_extension": ".py",
   "mimetype": "text/x-python",
   "name": "python",
   "nbconvert_exporter": "python",
   "pygments_lexer": "ipython3",
   "version": "3.7.3"
  }
 },
 "nbformat": 4,
 "nbformat_minor": 2
}
